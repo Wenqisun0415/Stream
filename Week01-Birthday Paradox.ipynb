{
 "cells": [
  {
   "cell_type": "markdown",
   "metadata": {},
   "source": [
    "There are many people in a room. Is there a pair of people with the same birthday?\n",
    "\n",
    "Let's step away from the 365-day year. Imagine there are $n$ possible birthdays and $m$ people, then the probability they are all different is\n",
    "\n",
    "$$1\\cdot(1-\\frac{1}{n})(1-\\frac{2}{n})(1-\\frac{3}{n})\\cdots(1-\\frac{m-1}{n})$$\n",
    "\n",
    "Here's an inequality that's very handy $1-x\\le e^{-x}$\n",
    "\n",
    "So the above product is at most $exp(-[\\frac{1}{n}+\\frac{2}{n}+\\cdots+\\frac{m-1}{n}])$\n",
    "\n",
    "Let $S=\\frac{1}{n}+\\frac{2}{n}+\\cdots+\\frac{m-1}{n}$, so the probability of all birthdays being different is $e^{-S}$.\n",
    "\n",
    "$$S=\\frac{m(m-1)}{2n}\\ge\\frac{(m-1)^2}{2n}$$\n",
    "\n",
    "When this quantity at least $\\ln{2}$, the probability that all birthdays are different drops below $\\frac{1}{2}$.\n",
    "\n",
    "Therefore, with probability at least $\\frac{1}{2}$, there is some pair of people with the same birthday. And this happens when the number of people, $m$, is at least $1+\\sqrt{2n\\ln{2}}$.\n",
    "\n"
   ]
  },
  {
   "cell_type": "code",
   "execution_count": null,
   "metadata": {
    "collapsed": true
   },
   "outputs": [],
   "source": []
  }
 ],
 "metadata": {
  "kernelspec": {
   "display_name": "Python 3",
   "language": "python",
   "name": "python3"
  },
  "language_info": {
   "codemirror_mode": {
    "name": "ipython",
    "version": 3
   },
   "file_extension": ".py",
   "mimetype": "text/x-python",
   "name": "python",
   "nbconvert_exporter": "python",
   "pygments_lexer": "ipython3",
   "version": "3.6.0"
  }
 },
 "nbformat": 4,
 "nbformat_minor": 2
}
